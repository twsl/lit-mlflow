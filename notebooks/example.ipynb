{
 "cells": [
  {
   "cell_type": "code",
   "execution_count": 11,
   "metadata": {},
   "outputs": [
    {
     "data": {
      "text/plain": [
       "Retrieving Poetry metadata\r\n",
       "\r\n",
       "The latest version (1.8.3) is already installed.\r\n",
       "\r\n",
       "Poetry could not find a pyproject.toml file in /databricks or its parents"
      ]
     },
     "metadata": {},
     "output_type": "display_data"
    }
   ],
   "source": [
    "!curl -sSL  https://install.python-poetry.org | POETRY_HOME=/etc/poetry python - && PATH=\"/etc/poetry/bin:$PATH\" && poetry completions bash >> ~/.bash_completion && poetry config virtualenvs.create false && cd .. && poetry install && poetry build"
   ]
  },
  {
   "cell_type": "code",
   "execution_count": 12,
   "metadata": {},
   "outputs": [
    {
     "data": {
      "text/html": [
       "<span class='ansi-red-fg'>CalledProcessError</span>: Command 'pip --disable-pip-version-check install ../dist/*.whl' returned non-zero exit status 1."
      ]
     },
     "metadata": {},
     "output_type": "display_data"
    },
    {
     "ename": "Error",
     "evalue": "\u001b[0;31m---------------------------------------------------------------------------\u001b[0m\n\u001b[0;31mCalledProcessError\u001b[0m                        Traceback (most recent call last)\nFile \u001b[0;32m~/.ipykernel/4410/command--1-2581027883:1\u001b[0m\n\u001b[0;32m----> 1\u001b[0m get_ipython()\u001b[38;5;241m.\u001b[39mrun_line_magic(\u001b[38;5;124m'\u001b[39m\u001b[38;5;124mpip\u001b[39m\u001b[38;5;124m'\u001b[39m, \u001b[38;5;124m'\u001b[39m\u001b[38;5;124minstall ../dist/*.whl\u001b[39m\u001b[38;5;124m'\u001b[39m)\n\nFile \u001b[0;32m/databricks/python/lib/python3.11/site-packages/IPython/core/interactiveshell.py:2432\u001b[0m, in \u001b[0;36mInteractiveShell.run_line_magic\u001b[0;34m(self, magic_name, line, _stack_depth)\u001b[0m\n\u001b[1;32m   2430\u001b[0m     kwargs[\u001b[38;5;124m'\u001b[39m\u001b[38;5;124mlocal_ns\u001b[39m\u001b[38;5;124m'\u001b[39m] \u001b[38;5;241m=\u001b[39m \u001b[38;5;28mself\u001b[39m\u001b[38;5;241m.\u001b[39mget_local_scope(stack_depth)\n\u001b[1;32m   2431\u001b[0m \u001b[38;5;28;01mwith\u001b[39;00m \u001b[38;5;28mself\u001b[39m\u001b[38;5;241m.\u001b[39mbuiltin_trap:\n\u001b[0;32m-> 2432\u001b[0m     result \u001b[38;5;241m=\u001b[39m fn(\u001b[38;5;241m*\u001b[39margs, \u001b[38;5;241m*\u001b[39m\u001b[38;5;241m*\u001b[39mkwargs)\n\u001b[1;32m   2434\u001b[0m \u001b[38;5;66;03m# The code below prevents the output from being displayed\u001b[39;00m\n\u001b[1;32m   2435\u001b[0m \u001b[38;5;66;03m# when using magics with decorator @output_can_be_silenced\u001b[39;00m\n\u001b[1;32m   2436\u001b[0m \u001b[38;5;66;03m# when the last Python token in the expression is a ';'.\u001b[39;00m\n\u001b[1;32m   2437\u001b[0m \u001b[38;5;28;01mif\u001b[39;00m \u001b[38;5;28mgetattr\u001b[39m(fn, magic\u001b[38;5;241m.\u001b[39mMAGIC_OUTPUT_CAN_BE_SILENCED, \u001b[38;5;28;01mFalse\u001b[39;00m):\n\nFile \u001b[0;32m/databricks/python_shell/dbruntime/PipMagicOverrides.py:33\u001b[0m, in \u001b[0;36mPipMagicOverrides.pip\u001b[0;34m(self, line)\u001b[0m\n\u001b[1;32m     31\u001b[0m \u001b[38;5;129m@line_magic\u001b[39m\n\u001b[1;32m     32\u001b[0m \u001b[38;5;28;01mdef\u001b[39;00m \u001b[38;5;21mpip\u001b[39m(\u001b[38;5;28mself\u001b[39m, line):\n\u001b[0;32m---> 33\u001b[0m     \u001b[38;5;28mself\u001b[39m\u001b[38;5;241m.\u001b[39mpipMagicHandler\u001b[38;5;241m.\u001b[39mrunCmd(\u001b[38;5;124m\"\u001b[39m\u001b[38;5;124mpip\u001b[39m\u001b[38;5;124m\"\u001b[39m, line)\n\nFile \u001b[0;32m/databricks/python_shell/dbruntime/PipMagicOverrides.py:67\u001b[0m, in \u001b[0;36mPipMagicHandler.runCmd\u001b[0;34m(self, magicCmd, line)\u001b[0m\n\u001b[1;32m     65\u001b[0m \u001b[38;5;28;01mif\u001b[39;00m parsedResult\u001b[38;5;241m.\u001b[39misMutation():\n\u001b[1;32m     66\u001b[0m     envManager\u001b[38;5;241m.\u001b[39msetEnableEnvSnapshot(\u001b[38;5;28;01mFalse\u001b[39;00m)\n\u001b[0;32m---> 67\u001b[0m     \u001b[38;5;28mself\u001b[39m\u001b[38;5;241m.\u001b[39mexecutePipCommand(parsedResult)\n\u001b[1;32m     68\u001b[0m     envManager\u001b[38;5;241m.\u001b[39msetEnableEnvSnapshot(\u001b[38;5;28;01mTrue\u001b[39;00m)\n\u001b[1;32m     69\u001b[0m \u001b[38;5;28;01melse\u001b[39;00m:\n\nFile \u001b[0;32m/databricks/python_shell/dbruntime/PipMagicOverrides.py:139\u001b[0m, in \u001b[0;36mPipMagicHandler.executePipCommand\u001b[0;34m(self, result)\u001b[0m\n\u001b[1;32m    137\u001b[0m     sys\u001b[38;5;241m.\u001b[39mstdout\u001b[38;5;241m.\u001b[39mflush()\n\u001b[1;32m    138\u001b[0m     \u001b[38;5;28;01mif\u001b[39;00m returncode \u001b[38;5;241m!=\u001b[39m \u001b[38;5;241m0\u001b[39m:\n\u001b[0;32m--> 139\u001b[0m         \u001b[38;5;28;01mraise\u001b[39;00m subprocess\u001b[38;5;241m.\u001b[39mCalledProcessError(returncode, origCmd)\n\u001b[1;32m    140\u001b[0m \u001b[38;5;28;01mfinally\u001b[39;00m:\n\u001b[1;32m    141\u001b[0m     end \u001b[38;5;241m=\u001b[39m time\u001b[38;5;241m.\u001b[39mtime()\n\n\u001b[0;31mCalledProcessError\u001b[0m: Command 'pip --disable-pip-version-check install ../dist/*.whl' returned non-zero exit status 1.",
     "output_type": "error",
     "traceback": [
      "Error: \u001b[0;31m---------------------------------------------------------------------------\u001b[0m\n",
      "\u001b[0;31mCalledProcessError\u001b[0m                        Traceback (most recent call last)\n",
      "File \u001b[0;32m~/.ipykernel/4410/command--1-2581027883:1\u001b[0m\n",
      "\u001b[0;32m----> 1\u001b[0m get_ipython()\u001b[38;5;241m.\u001b[39mrun_line_magic(\u001b[38;5;124m'\u001b[39m\u001b[38;5;124mpip\u001b[39m\u001b[38;5;124m'\u001b[39m, \u001b[38;5;124m'\u001b[39m\u001b[38;5;124minstall ../dist/*.whl\u001b[39m\u001b[38;5;124m'\u001b[39m)\n",
      "\n",
      "File \u001b[0;32m/databricks/python/lib/python3.11/site-packages/IPython/core/interactiveshell.py:2432\u001b[0m, in \u001b[0;36mInteractiveShell.run_line_magic\u001b[0;34m(self, magic_name, line, _stack_depth)\u001b[0m\n",
      "\u001b[1;32m   2430\u001b[0m     kwargs[\u001b[38;5;124m'\u001b[39m\u001b[38;5;124mlocal_ns\u001b[39m\u001b[38;5;124m'\u001b[39m] \u001b[38;5;241m=\u001b[39m \u001b[38;5;28mself\u001b[39m\u001b[38;5;241m.\u001b[39mget_local_scope(stack_depth)\n",
      "\u001b[1;32m   2431\u001b[0m \u001b[38;5;28;01mwith\u001b[39;00m \u001b[38;5;28mself\u001b[39m\u001b[38;5;241m.\u001b[39mbuiltin_trap:\n",
      "\u001b[0;32m-> 2432\u001b[0m     result \u001b[38;5;241m=\u001b[39m fn(\u001b[38;5;241m*\u001b[39margs, \u001b[38;5;241m*\u001b[39m\u001b[38;5;241m*\u001b[39mkwargs)\n",
      "\u001b[1;32m   2434\u001b[0m \u001b[38;5;66;03m# The code below prevents the output from being displayed\u001b[39;00m\n",
      "\u001b[1;32m   2435\u001b[0m \u001b[38;5;66;03m# when using magics with decorator @output_can_be_silenced\u001b[39;00m\n",
      "\u001b[1;32m   2436\u001b[0m \u001b[38;5;66;03m# when the last Python token in the expression is a ';'.\u001b[39;00m\n",
      "\u001b[1;32m   2437\u001b[0m \u001b[38;5;28;01mif\u001b[39;00m \u001b[38;5;28mgetattr\u001b[39m(fn, magic\u001b[38;5;241m.\u001b[39mMAGIC_OUTPUT_CAN_BE_SILENCED, \u001b[38;5;28;01mFalse\u001b[39;00m):\n",
      "\n",
      "File \u001b[0;32m/databricks/python_shell/dbruntime/PipMagicOverrides.py:33\u001b[0m, in \u001b[0;36mPipMagicOverrides.pip\u001b[0;34m(self, line)\u001b[0m\n",
      "\u001b[1;32m     31\u001b[0m \u001b[38;5;129m@line_magic\u001b[39m\n",
      "\u001b[1;32m     32\u001b[0m \u001b[38;5;28;01mdef\u001b[39;00m \u001b[38;5;21mpip\u001b[39m(\u001b[38;5;28mself\u001b[39m, line):\n",
      "\u001b[0;32m---> 33\u001b[0m     \u001b[38;5;28mself\u001b[39m\u001b[38;5;241m.\u001b[39mpipMagicHandler\u001b[38;5;241m.\u001b[39mrunCmd(\u001b[38;5;124m\"\u001b[39m\u001b[38;5;124mpip\u001b[39m\u001b[38;5;124m\"\u001b[39m, line)\n",
      "\n",
      "File \u001b[0;32m/databricks/python_shell/dbruntime/PipMagicOverrides.py:67\u001b[0m, in \u001b[0;36mPipMagicHandler.runCmd\u001b[0;34m(self, magicCmd, line)\u001b[0m\n",
      "\u001b[1;32m     65\u001b[0m \u001b[38;5;28;01mif\u001b[39;00m parsedResult\u001b[38;5;241m.\u001b[39misMutation():\n",
      "\u001b[1;32m     66\u001b[0m     envManager\u001b[38;5;241m.\u001b[39msetEnableEnvSnapshot(\u001b[38;5;28;01mFalse\u001b[39;00m)\n",
      "\u001b[0;32m---> 67\u001b[0m     \u001b[38;5;28mself\u001b[39m\u001b[38;5;241m.\u001b[39mexecutePipCommand(parsedResult)\n",
      "\u001b[1;32m     68\u001b[0m     envManager\u001b[38;5;241m.\u001b[39msetEnableEnvSnapshot(\u001b[38;5;28;01mTrue\u001b[39;00m)\n",
      "\u001b[1;32m     69\u001b[0m \u001b[38;5;28;01melse\u001b[39;00m:\n",
      "\n",
      "File \u001b[0;32m/databricks/python_shell/dbruntime/PipMagicOverrides.py:139\u001b[0m, in \u001b[0;36mPipMagicHandler.executePipCommand\u001b[0;34m(self, result)\u001b[0m\n",
      "\u001b[1;32m    137\u001b[0m     sys\u001b[38;5;241m.\u001b[39mstdout\u001b[38;5;241m.\u001b[39mflush()\n",
      "\u001b[1;32m    138\u001b[0m     \u001b[38;5;28;01mif\u001b[39;00m returncode \u001b[38;5;241m!=\u001b[39m \u001b[38;5;241m0\u001b[39m:\n",
      "\u001b[0;32m--> 139\u001b[0m         \u001b[38;5;28;01mraise\u001b[39;00m subprocess\u001b[38;5;241m.\u001b[39mCalledProcessError(returncode, origCmd)\n",
      "\u001b[1;32m    140\u001b[0m \u001b[38;5;28;01mfinally\u001b[39;00m:\n",
      "\u001b[1;32m    141\u001b[0m     end \u001b[38;5;241m=\u001b[39m time\u001b[38;5;241m.\u001b[39mtime()\n",
      "\n",
      "\u001b[0;31mCalledProcessError\u001b[0m: Command 'pip --disable-pip-version-check install ../dist/*.whl' returned non-zero exit status 1.\n",
      "    at d._doExecution (/root/.vscode-server/extensions/paiqo.databricks-vscode-2.3.4/dist/node/extension.js:2:65757)\n",
      "    at processTicksAndRejections (node:internal/process/task_queues:95:5)\n",
      "    at d.executeHandler (/root/.vscode-server/extensions/paiqo.databricks-vscode-2.3.4/dist/node/extension.js:2:54211)\n",
      "    at o.$executeCells (/vscode/vscode-server/bin/linux-x64/ea1445cc7016315d0f5728f8e8b12a45dc0a7286/out/vs/workbench/api/node/extensionHostProcess.js:156:232820)"
     ]
    }
   ],
   "source": [
    "!pip install ../dist/*.whl"
   ]
  },
  {
   "cell_type": "code",
   "execution_count": 3,
   "metadata": {},
   "outputs": [
    {
     "name": "stdout",
     "output_type": "stream",
     "text": []
    }
   ],
   "source": [
    "dbutils.library.restartPython()"
   ]
  },
  {
   "cell_type": "code",
   "execution_count": 4,
   "metadata": {},
   "outputs": [
    {
     "name": "stdout",
     "output_type": "stream",
     "text": []
    }
   ],
   "source": [
    "import torch\n",
    "from torch import Tensor\n",
    "from torch.utils.data import Dataset\n",
    "\n",
    "\n",
    "class RandomDataset(Dataset):\n",
    "    def __init__(self, size: int, num_samples: int) -> None:\n",
    "        self.len = num_samples\n",
    "        self.data = torch.randn(num_samples, size)\n",
    "\n",
    "    def __getitem__(self, index: int) -> Tensor:\n",
    "        return self.data[index]\n",
    "\n",
    "    def __len__(self) -> int:\n",
    "        return self.len"
   ]
  },
  {
   "cell_type": "code",
   "execution_count": 5,
   "metadata": {},
   "outputs": [
    {
     "data": {
      "text/plain": [
       "Unexpected internal error when monkey patching `PreTrainedModel.from_pretrained`: Failed to import transformers.modeling_utils because of the following error (look up to see its traceback):\n",
       "Failed to import transformers.generation.utils because of the following error (look up to see its traceback):\n",
       "cannot import name 'assume_constant_result' from partially initialized module 'torch._dynamo' (most likely due to a circular import) (/databricks/python/lib/python3.11/site-packages/torch/_dynamo/__init__.py)\n",
       "Unexpected internal error when monkey patching `Trainer.train`: Failed to import transformers.trainer because of the following error (look up to see its traceback):\n",
       "Failed to import transformers.integrations.integration_utils because of the following error (look up to see its traceback):\n",
       "cannot import name 'assume_constant_result' from partially initialized module 'torch._dynamo' (most likely due to a circular import) (/databricks/python/lib/python3.11/site-packages/torch/_dynamo/__init__.py)"
      ]
     },
     "metadata": {},
     "output_type": "display_data"
    }
   ],
   "source": [
    "import lightning as L\n",
    "import torch\n",
    "from torch.utils.data import DataLoader\n",
    "\n",
    "\n",
    "class RandomDataModule(L.LightningDataModule):\n",
    "    def __init__(self, size: int = 32, num_samples: int = 10000, batch_size: int = 32) -> None:\n",
    "        \"\"\"The Random data module.\n",
    "\n",
    "        Args:\n",
    "            size: The tensor size.\n",
    "            num_samples: The number of samples.\n",
    "            batch_size: The batch size.\n",
    "        \"\"\"\n",
    "        super().__init__()\n",
    "        self.size = size\n",
    "        self.num_samples = num_samples\n",
    "        self.batch_size = batch_size\n",
    "\n",
    "    def setup(self, stage: str | None = None) -> None:\n",
    "        \"\"\"Setup the data module per stage.\n",
    "\n",
    "        Args:\n",
    "            stage: The training stage.\n",
    "        \"\"\"\n",
    "        self.data_test = RandomDataset(self.size, self.num_samples)\n",
    "        self.data_train = RandomDataset(self.size, self.num_samples)\n",
    "        self.data_val = RandomDataset(self.size, self.num_samples)\n",
    "\n",
    "    def train_dataloader(self) -> DataLoader:\n",
    "        return DataLoader(self.data_train, batch_size=self.batch_size)\n",
    "\n",
    "    def val_dataloader(self) -> DataLoader:\n",
    "        return DataLoader(self.data_val, batch_size=self.batch_size)\n",
    "\n",
    "    def test_dataloader(self) -> DataLoader:\n",
    "        return DataLoader(self.data_test, batch_size=self.batch_size)"
   ]
  },
  {
   "cell_type": "code",
   "execution_count": 6,
   "metadata": {},
   "outputs": [
    {
     "name": "stdout",
     "output_type": "stream",
     "text": []
    }
   ],
   "source": [
    "from typing import Any\n",
    "\n",
    "import lightning as L\n",
    "import torch\n",
    "\n",
    "\n",
    "class BoringModel(L.LightningModule):\n",
    "    def __init__(self):\n",
    "        super().__init__()\n",
    "        self.layer = torch.nn.Linear(32, 2)\n",
    "\n",
    "        self.training_step_outputs = []\n",
    "        self.validation_step_outputs = []\n",
    "\n",
    "    def forward(self, x):\n",
    "        return self.layer(x)\n",
    "\n",
    "    def loss(self, batch, prediction):\n",
    "        # An arbitrary loss to have a loss that updates the model weights during `Trainer.fit` calls\n",
    "        return torch.nn.functional.mse_loss(prediction, torch.ones_like(prediction))\n",
    "\n",
    "    def training_step(self, batch, batch_idx) -> dict[str, Any]:\n",
    "        output = self(batch)\n",
    "        loss = self.loss(batch, output)\n",
    "        self.log(\"train_loss\", loss)\n",
    "        return {\"loss\": loss}\n",
    "\n",
    "    def validation_step(self, batch, batch_idx) -> None:\n",
    "        output = self(batch)\n",
    "        loss = self.loss(batch, output)\n",
    "        self.log(\"valid_loss\", loss)\n",
    "\n",
    "    def test_step(self, batch, batch_idx) -> None:\n",
    "        output = self(batch)\n",
    "        loss = self.loss(batch, output)\n",
    "        self.log(\"test_loss\", loss)\n",
    "\n",
    "    # def on_train_epoch_end(self, outputs) -> Any:\n",
    "    #     return torch.stack([x[\"loss\"] for x in outputs]).mean()\n",
    "\n",
    "    # def on_validation_epoch_end(self, outputs) -> Any:\n",
    "    #     return torch.stack([x[\"x\"] for x in outputs]).mean()\n",
    "\n",
    "    # def on_test_epoch_end(self, outputs) -> Any:\n",
    "    #     return torch.stack([x[\"y\"] for x in outputs]).mean()\n",
    "\n",
    "    def configure_optimizers(self) -> tuple[list[Any], list[Any]]:\n",
    "        optimizer = torch.optim.SGD(self.layer.parameters(), lr=0.1)\n",
    "        lr_scheduler = torch.optim.lr_scheduler.StepLR(optimizer, step_size=1)\n",
    "        return [optimizer], [lr_scheduler]"
   ]
  },
  {
   "cell_type": "code",
   "execution_count": 7,
   "metadata": {},
   "outputs": [
    {
     "data": {
      "text/html": [
       "<span class='ansi-red-fg'>ModuleNotFoundError</span>: No module named 'lit_mlflow'"
      ]
     },
     "metadata": {},
     "output_type": "display_data"
    },
    {
     "ename": "Error",
     "evalue": "\u001b[0;31m---------------------------------------------------------------------------\u001b[0m\n\u001b[0;31mModuleNotFoundError\u001b[0m                       Traceback (most recent call last)\nFile \u001b[0;32m~/.ipykernel/4410/command--1-2891841985:1\u001b[0m\n\u001b[0;32m----> 1\u001b[0m \u001b[38;5;28;01mfrom\u001b[39;00m \u001b[38;5;21;01mlit_mlflow\u001b[39;00m \u001b[38;5;28;01mimport\u001b[39;00m MlFlowAutoCallback, DbxMLFlowLogger\n\n\u001b[0;31mModuleNotFoundError\u001b[0m: No module named 'lit_mlflow'",
     "output_type": "error",
     "traceback": [
      "Error: \u001b[0;31m---------------------------------------------------------------------------\u001b[0m\n",
      "\u001b[0;31mModuleNotFoundError\u001b[0m                       Traceback (most recent call last)\n",
      "File \u001b[0;32m~/.ipykernel/4410/command--1-2891841985:1\u001b[0m\n",
      "\u001b[0;32m----> 1\u001b[0m \u001b[38;5;28;01mfrom\u001b[39;00m \u001b[38;5;21;01mlit_mlflow\u001b[39;00m \u001b[38;5;28;01mimport\u001b[39;00m MlFlowAutoCallback, DbxMLFlowLogger\n",
      "\n",
      "\u001b[0;31mModuleNotFoundError\u001b[0m: No module named 'lit_mlflow'\n",
      "    at d._doExecution (/root/.vscode-server/extensions/paiqo.databricks-vscode-2.3.4/dist/node/extension.js:2:65757)\n",
      "    at processTicksAndRejections (node:internal/process/task_queues:95:5)\n",
      "    at d.executeHandler (/root/.vscode-server/extensions/paiqo.databricks-vscode-2.3.4/dist/node/extension.js:2:54211)\n",
      "    at o.$executeCells (/vscode/vscode-server/bin/linux-x64/ea1445cc7016315d0f5728f8e8b12a45dc0a7286/out/vs/workbench/api/node/extensionHostProcess.js:156:232820)"
     ]
    }
   ],
   "source": [
    "from lit_mlflow import MlFlowAutoCallback, DbxMLFlowLogger"
   ]
  },
  {
   "cell_type": "code",
   "execution_count": 8,
   "metadata": {},
   "outputs": [
    {
     "name": "stdout",
     "output_type": "stream",
     "text": []
    }
   ],
   "source": [
    "from lightning.pytorch.callbacks import DeviceStatsMonitor"
   ]
  },
  {
   "cell_type": "code",
   "execution_count": null,
   "metadata": {},
   "outputs": [],
   "source": [
    "from lightning.pytorch.callbacks.progress import ProgressBar, RichProgressBar, TQDMProgressBar"
   ]
  },
  {
   "cell_type": "code",
   "execution_count": null,
   "metadata": {},
   "outputs": [],
   "source": [
    "import mlflow\n",
    "\n",
    "mlflow.enable_system_metrics_logging()"
   ]
  },
  {
   "cell_type": "code",
   "execution_count": 9,
   "metadata": {},
   "outputs": [
    {
     "data": {
      "text/html": [
       "<span class='ansi-red-fg'>NameError</span>: name 'DbxMLFlowLogger' is not defined"
      ]
     },
     "metadata": {},
     "output_type": "display_data"
    },
    {
     "ename": "Error",
     "evalue": "\u001b[0;31m---------------------------------------------------------------------------\u001b[0m\n\u001b[0;31mNameError\u001b[0m                                 Traceback (most recent call last)\nFile \u001b[0;32m~/.ipykernel/4410/command--1-1698900115:13\u001b[0m\n\u001b[1;32m      3\u001b[0m model \u001b[38;5;241m=\u001b[39m BoringModel()\n\u001b[1;32m      5\u001b[0m \u001b[38;5;66;03m# Initialize a trainer\u001b[39;00m\n\u001b[1;32m      6\u001b[0m trainer \u001b[38;5;241m=\u001b[39m L\u001b[38;5;241m.\u001b[39mTrainer(\n\u001b[1;32m      7\u001b[0m     limit_train_batches\u001b[38;5;241m=\u001b[39m\u001b[38;5;241m100\u001b[39m,\n\u001b[1;32m      8\u001b[0m     limit_val_batches\u001b[38;5;241m=\u001b[39m\u001b[38;5;241m10\u001b[39m,\n\u001b[1;32m      9\u001b[0m     limit_test_batches\u001b[38;5;241m=\u001b[39m\u001b[38;5;241m10\u001b[39m,\n\u001b[1;32m     10\u001b[0m     num_sanity_val_steps\u001b[38;5;241m=\u001b[39m\u001b[38;5;241m0\u001b[39m,\n\u001b[1;32m     11\u001b[0m     max_epochs\u001b[38;5;241m=\u001b[39m\u001b[38;5;241m10\u001b[39m,\n\u001b[1;32m     12\u001b[0m     enable_model_summary\u001b[38;5;241m=\u001b[39m\u001b[38;5;28;01mFalse\u001b[39;00m,\n\u001b[0;32m---> 13\u001b[0m     logger\u001b[38;5;241m=\u001b[39mDbxMLFlowLogger(),\n\u001b[1;32m     14\u001b[0m     callbacks\u001b[38;5;241m=\u001b[39m[MlFlowAutoCallback(), DeviceStatsMonitor()],\n\u001b[1;32m     15\u001b[0m )\n\u001b[1;32m     17\u001b[0m \u001b[38;5;66;03m# Train the model ⚡\u001b[39;00m\n\u001b[1;32m     18\u001b[0m trainer\u001b[38;5;241m.\u001b[39mfit(model, datamodule\u001b[38;5;241m=\u001b[39mdm)\n\n\u001b[0;31mNameError\u001b[0m: name 'DbxMLFlowLogger' is not defined",
     "output_type": "error",
     "traceback": [
      "Error: \u001b[0;31m---------------------------------------------------------------------------\u001b[0m\n",
      "\u001b[0;31mNameError\u001b[0m                                 Traceback (most recent call last)\n",
      "File \u001b[0;32m~/.ipykernel/4410/command--1-1698900115:13\u001b[0m\n",
      "\u001b[1;32m      3\u001b[0m model \u001b[38;5;241m=\u001b[39m BoringModel()\n",
      "\u001b[1;32m      5\u001b[0m \u001b[38;5;66;03m# Initialize a trainer\u001b[39;00m\n",
      "\u001b[1;32m      6\u001b[0m trainer \u001b[38;5;241m=\u001b[39m L\u001b[38;5;241m.\u001b[39mTrainer(\n",
      "\u001b[1;32m      7\u001b[0m     limit_train_batches\u001b[38;5;241m=\u001b[39m\u001b[38;5;241m100\u001b[39m,\n",
      "\u001b[1;32m      8\u001b[0m     limit_val_batches\u001b[38;5;241m=\u001b[39m\u001b[38;5;241m10\u001b[39m,\n",
      "\u001b[1;32m      9\u001b[0m     limit_test_batches\u001b[38;5;241m=\u001b[39m\u001b[38;5;241m10\u001b[39m,\n",
      "\u001b[1;32m     10\u001b[0m     num_sanity_val_steps\u001b[38;5;241m=\u001b[39m\u001b[38;5;241m0\u001b[39m,\n",
      "\u001b[1;32m     11\u001b[0m     max_epochs\u001b[38;5;241m=\u001b[39m\u001b[38;5;241m10\u001b[39m,\n",
      "\u001b[1;32m     12\u001b[0m     enable_model_summary\u001b[38;5;241m=\u001b[39m\u001b[38;5;28;01mFalse\u001b[39;00m,\n",
      "\u001b[0;32m---> 13\u001b[0m     logger\u001b[38;5;241m=\u001b[39mDbxMLFlowLogger(),\n",
      "\u001b[1;32m     14\u001b[0m     callbacks\u001b[38;5;241m=\u001b[39m[MlFlowAutoCallback(), DeviceStatsMonitor()],\n",
      "\u001b[1;32m     15\u001b[0m )\n",
      "\u001b[1;32m     17\u001b[0m \u001b[38;5;66;03m# Train the model ⚡\u001b[39;00m\n",
      "\u001b[1;32m     18\u001b[0m trainer\u001b[38;5;241m.\u001b[39mfit(model, datamodule\u001b[38;5;241m=\u001b[39mdm)\n",
      "\n",
      "\u001b[0;31mNameError\u001b[0m: name 'DbxMLFlowLogger' is not defined\n",
      "    at d._doExecution (/root/.vscode-server/extensions/paiqo.databricks-vscode-2.3.4/dist/node/extension.js:2:65757)\n",
      "    at processTicksAndRejections (node:internal/process/task_queues:95:5)\n",
      "    at d.executeHandler (/root/.vscode-server/extensions/paiqo.databricks-vscode-2.3.4/dist/node/extension.js:2:54211)\n",
      "    at o.$executeCells (/vscode/vscode-server/bin/linux-x64/ea1445cc7016315d0f5728f8e8b12a45dc0a7286/out/vs/workbench/api/node/extensionHostProcess.js:156:232820)"
     ]
    }
   ],
   "source": [
    "dm = RandomDataModule()\n",
    "\n",
    "model = BoringModel()\n",
    "\n",
    "# Initialize a trainer\n",
    "trainer = L.Trainer(\n",
    "    limit_train_batches=1000,\n",
    "    limit_val_batches=100,\n",
    "    limit_test_batches=10,\n",
    "    num_sanity_val_steps=0,\n",
    "    max_epochs=50,\n",
    "    enable_model_summary=False,\n",
    "    logger=DbxMLFlowLogger(),\n",
    "    callbacks=[RichProgressBar(), MlFlowAutoCallback()],\n",
    ")\n",
    "\n",
    "# Train the model ⚡\n",
    "trainer.fit(model, datamodule=dm)\n",
    "\n",
    "trainer.test(datamodule=dm, ckpt_path=\"best\")"
   ]
  }
 ],
 "metadata": {
  "kernelspec": {
   "display_name": "Python 3",
   "language": "python",
   "name": "python3"
  },
  "language_info": {
   "codemirror_mode": {
    "name": "ipython",
    "version": 3
   },
   "file_extension": ".py",
   "mimetype": "text/x-python",
   "name": "python",
   "nbconvert_exporter": "python",
   "pygments_lexer": "ipython3",
   "version": "3.11.8"
  }
 },
 "nbformat": 4,
 "nbformat_minor": 2
}

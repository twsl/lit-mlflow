{
 "cells": [
  {
   "cell_type": "code",
   "execution_count": null,
   "metadata": {},
   "outputs": [],
   "source": [
    "!curl -sSL  https://install.python-poetry.org | POETRY_HOME=/etc/poetry python - && PATH=\"/etc/poetry/bin:$PATH\" && poetry completions bash >> ~/.bash_completion && poetry config virtualenvs.create false && cd .. && poetry install && poetry build"
   ]
  },
  {
   "cell_type": "code",
   "execution_count": null,
   "metadata": {},
   "outputs": [],
   "source": [
    "!pip install ../dist/*.whl"
   ]
  },
  {
   "cell_type": "code",
   "execution_count": null,
   "metadata": {},
   "outputs": [],
   "source": [
    "dbutils.library.restartPython()"
   ]
  },
  {
   "cell_type": "code",
   "execution_count": null,
   "metadata": {},
   "outputs": [],
   "source": [
    "import torch\n",
    "from torch import Tensor\n",
    "from torch.utils.data import Dataset\n",
    "\n",
    "\n",
    "class RandomDataset(Dataset):\n",
    "    def __init__(self, size: int, num_samples: int) -> None:\n",
    "        self.len = num_samples\n",
    "        self.data = torch.randn(num_samples, size)\n",
    "\n",
    "    def __getitem__(self, index: int) -> Tensor:\n",
    "        return self.data[index]\n",
    "\n",
    "    def __len__(self) -> int:\n",
    "        return self.len"
   ]
  },
  {
   "cell_type": "code",
   "execution_count": null,
   "metadata": {},
   "outputs": [],
   "source": [
    "import lightning as L\n",
    "import torch\n",
    "from torch.utils.data import DataLoader\n",
    "\n",
    "\n",
    "class RandomDataModule(L.LightningDataModule):\n",
    "    def __init__(self, size: int = 32, num_samples: int = 10000, batch_size: int = 32, num_workers: int = 5) -> None:\n",
    "        \"\"\"The Random data module.\n",
    "\n",
    "        Args:\n",
    "            size: The tensor size.\n",
    "            num_samples: The number of samples.\n",
    "            batch_size: The batch size.\n",
    "        \"\"\"\n",
    "        super().__init__()\n",
    "        self.size = size\n",
    "        self.num_samples = num_samples\n",
    "        self.batch_size = batch_size\n",
    "        self.num_workers = num_workers\n",
    "\n",
    "    def setup(self, stage: str | None = None) -> None:\n",
    "        \"\"\"Setup the data module per stage.\n",
    "\n",
    "        Args:\n",
    "            stage: The training stage.\n",
    "        \"\"\"\n",
    "        self.data_test = RandomDataset(self.size, self.num_samples)\n",
    "        self.data_train = RandomDataset(self.size, self.num_samples)\n",
    "        self.data_val = RandomDataset(self.size, self.num_samples)\n",
    "        self.data_predict = RandomDataset(self.size, self.num_samples)\n",
    "\n",
    "    def train_dataloader(self) -> DataLoader:\n",
    "        return DataLoader(self.data_train, batch_size=self.batch_size, num_workers=self.num_workers)\n",
    "\n",
    "    def val_dataloader(self) -> DataLoader:\n",
    "        return DataLoader(self.data_val, batch_size=self.batch_size, num_workers=self.num_workers)\n",
    "\n",
    "    def test_dataloader(self) -> DataLoader:\n",
    "        return DataLoader(self.data_test, batch_size=self.batch_size, num_workers=self.num_workers)\n",
    "\n",
    "    def predict_dataloader(self) -> DataLoader:\n",
    "        return DataLoader(self.data_predict, batch_size=self.batch_size, num_workers=self.num_workers)"
   ]
  },
  {
   "cell_type": "code",
   "execution_count": null,
   "metadata": {},
   "outputs": [],
   "source": [
    "from typing import Any\n",
    "\n",
    "import lightning as L\n",
    "import torch\n",
    "\n",
    "\n",
    "class BoringModel(L.LightningModule):\n",
    "    def __init__(self):\n",
    "        super().__init__()\n",
    "        self.layer = torch.nn.Linear(32, 2)\n",
    "\n",
    "        self.training_step_outputs = []\n",
    "        self.validation_step_outputs = []\n",
    "\n",
    "    def forward(self, x):\n",
    "        return self.layer(x)\n",
    "\n",
    "    def loss(self, batch, prediction):\n",
    "        # An arbitrary loss to have a loss that updates the model weights during `Trainer.fit` calls\n",
    "        return torch.nn.functional.mse_loss(prediction, torch.ones_like(prediction))\n",
    "\n",
    "    def training_step(self, batch, batch_idx) -> dict[str, Any]:\n",
    "        output = self(batch)\n",
    "        loss = self.loss(batch, output)\n",
    "        self.log(\"train_loss\", loss)\n",
    "        return {\"loss\": loss}\n",
    "\n",
    "    def validation_step(self, batch, batch_idx) -> None:\n",
    "        output = self(batch)\n",
    "        loss = self.loss(batch, output)\n",
    "        self.log(\"valid_loss\", loss)\n",
    "\n",
    "    def test_step(self, batch, batch_idx) -> None:\n",
    "        output = self(batch)\n",
    "        loss = self.loss(batch, output)\n",
    "        self.log(\"test_loss\", loss)\n",
    "\n",
    "    # def on_train_epoch_end(self, outputs) -> Any:\n",
    "    #     return torch.stack([x[\"loss\"] for x in outputs]).mean()\n",
    "\n",
    "    # def on_validation_epoch_end(self, outputs) -> Any:\n",
    "    #     return torch.stack([x[\"x\"] for x in outputs]).mean()\n",
    "\n",
    "    # def on_test_epoch_end(self, outputs) -> Any:\n",
    "    #     return torch.stack([x[\"y\"] for x in outputs]).mean()\n",
    "\n",
    "    def configure_optimizers(self) -> tuple[list[Any], list[Any]]:\n",
    "        optimizer = torch.optim.SGD(self.layer.parameters(), lr=0.1)\n",
    "        lr_scheduler = torch.optim.lr_scheduler.StepLR(optimizer, step_size=1)\n",
    "        return [optimizer], [lr_scheduler]"
   ]
  },
  {
   "cell_type": "code",
   "execution_count": null,
   "metadata": {},
   "outputs": [],
   "source": [
    "from lit_mlflow import MlFlowAutoCallback, DbxMLFlowLogger"
   ]
  },
  {
   "cell_type": "code",
   "execution_count": null,
   "metadata": {},
   "outputs": [],
   "source": [
    "from lightning.pytorch.callbacks import DeviceStatsMonitor"
   ]
  },
  {
   "cell_type": "code",
   "execution_count": null,
   "metadata": {},
   "outputs": [],
   "source": [
    "from lightning.pytorch.callbacks.progress import ProgressBar, RichProgressBar, TQDMProgressBar"
   ]
  },
  {
   "cell_type": "code",
   "execution_count": null,
   "metadata": {},
   "outputs": [],
   "source": [
    "dm = RandomDataModule()\n",
    "\n",
    "model = BoringModel()\n",
    "\n",
    "# Initialize a trainer\n",
    "trainer = L.Trainer(\n",
    "    limit_train_batches=1000,\n",
    "    limit_val_batches=100,\n",
    "    limit_test_batches=10,\n",
    "    num_sanity_val_steps=0,\n",
    "    max_epochs=50,\n",
    "    enable_model_summary=False,\n",
    "    logger=DbxMLFlowLogger(),\n",
    "    callbacks=[ProgressBar(), MlFlowAutoCallback(), DeviceStatsMonitor()],\n",
    ")\n",
    "\n",
    "# Train the model ⚡\n",
    "trainer.fit(model, datamodule=dm)\n",
    "\n",
    "trainer.test(datamodule=dm, ckpt_path=\"best\")"
   ]
  }
 ],
 "metadata": {
  "kernelspec": {
   "display_name": "Python 3",
   "language": "python",
   "name": "python3"
  },
  "language_info": {
   "codemirror_mode": {
    "name": "ipython",
    "version": 3
   },
   "file_extension": ".py",
   "mimetype": "text/x-python",
   "name": "python",
   "nbconvert_exporter": "python",
   "pygments_lexer": "ipython3",
   "version": "3.11.8"
  }
 },
 "nbformat": 4,
 "nbformat_minor": 2
}
